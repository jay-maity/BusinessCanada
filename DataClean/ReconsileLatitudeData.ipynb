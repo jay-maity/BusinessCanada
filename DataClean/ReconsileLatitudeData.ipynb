{
 "cells": [
  {
   "cell_type": "code",
   "execution_count": 14,
   "metadata": {
    "collapsed": false
   },
   "outputs": [],
   "source": [
    "import csv\n",
    "import sqlite3\n",
    "import csv\n",
    "SQLLITEFILE = '/home/jay/BigData/SFUCourses/CMPT733/Project/Data/latlongadd_db.sqlite'\n",
    "\n",
    "sqlite_file = SQLLITEFILE    # name of the sqlite database file\n",
    "\n",
    "# Connecting to the database file\n",
    "conn = sqlite3.connect(sqlite_file)\n",
    "c = conn.cursor()\n",
    "\n",
    "VANCOUVER_MERGED_FILE = \"/home/jay/BigData/SFUCourses/CMPT733/Project/Data/businesswise_vancouver.csv/part-00000-cd0a3266-fea3-4970-bea0-25df4c55e277.csv\"\n",
    "VANCOUVER_FINAL = \"/home/jay/BigData/SFUCourses/CMPT733/Project/Data/vancouver_final.csv\"\n",
    "def format_string(val):\n",
    "    if val == \"\":\n",
    "        val = \"\"\n",
    "    else:\n",
    "        val = val.replace(\"'\",\"''\")\n",
    "    return val\n",
    "\n",
    "def find_latlong(house, street, city, province, country, postalcode):\n",
    "    latitude=0\n",
    "    longitude=0\n",
    "    \n",
    "    sql_text = \"\"\"SELECT Latitude, Longitude \n",
    "    FROM AddressLatLong \n",
    "    WHERE House='{0}' \n",
    "    AND Street = '{1}'\n",
    "    AND City ='{2}'\n",
    "    AND Province = '{3}'\n",
    "    AND Country = '{4}'\n",
    "    AND PostalCode = '{5}' LIMIT 1\"\"\".format(format_string(house), format_string(street),\n",
    "                 format_string(city), format_string(province), \n",
    "                 format_string(country), format_string(postalcode))\n",
    "    #print sql_text\n",
    "    c.execute(sql_text)\n",
    "    csvline = c.fetchall()\n",
    "    if len(csvline) > 0:\n",
    "        latitude, longitude = csvline[0]\n",
    "    #print latitude, longitude\n",
    "    return latitude, longitude\n",
    "        \n",
    "\n",
    "def replace_latitude_longitude(filelocation, outputfile):\n",
    "    f=open(outputfile, \"w\" )\n",
    "    \n",
    "    with open(filelocation, 'r') as filepointer:\n",
    "        csvreader = csv.reader(filepointer)\n",
    "        csvreader.next()\n",
    "        for csvline in csvreader:\n",
    "            house = csvline[6]\n",
    "            street = csvline[7]\n",
    "            city =csvline[8]\n",
    "            province = csvline[9]\n",
    "            country = csvline[10]\n",
    "            postalcode = csvline[11]\n",
    "            latitude = csvline[12]\n",
    "            longitude = csvline[13]\n",
    "            if latitude == \"\" or longitude == \"\":\n",
    "                latitude, longitude = find_latlong(house, street, city, province, country, postalcode)\n",
    "                if latitude != 0 or longitude != 0:\n",
    "                    csvline[12] = str(latitude)\n",
    "                    csvline[13] = str(longitude)\n",
    "            f.write(','.join(csvline)+\"\\n\")\n",
    "            #print csvline\n",
    "            #break\n",
    "                \n",
    "replace_latitude_longitude(VANCOUVER_MERGED_FILE, VANCOUVER_FINAL)    \n",
    "    "
   ]
  },
  {
   "cell_type": "code",
   "execution_count": null,
   "metadata": {
    "collapsed": true
   },
   "outputs": [],
   "source": []
  }
 ],
 "metadata": {
  "kernelspec": {
   "display_name": "Python 2",
   "language": "python",
   "name": "python2"
  },
  "language_info": {
   "codemirror_mode": {
    "name": "ipython",
    "version": 2
   },
   "file_extension": ".py",
   "mimetype": "text/x-python",
   "name": "python",
   "nbconvert_exporter": "python",
   "pygments_lexer": "ipython2",
   "version": "2.7.12"
  }
 },
 "nbformat": 4,
 "nbformat_minor": 1
}
